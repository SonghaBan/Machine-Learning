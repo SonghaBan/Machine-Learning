{
 "cells": [
  {
   "cell_type": "markdown",
   "metadata": {},
   "source": [
    "\n",
    "## Keras 101: Using Simple Neural Network to Classify MNIST\n",
    "\n",
    "Train a simple deep NN on the MNIST dataset. Please read the code and get yourself familiar with Keras API.\n",
    "\n",
    "You shoud get **~98.40%** test accuracy after 20 epochs\n",
    "(although there is *a lot* of margin for parameter tuning).\n",
    "\n",
    "\n",
    "Adapted from an example in Keras Github Repo: https://github.com/fchollet/keras/blob/master/examples/mnist_mlp.py"
   ]
  },
  {
   "cell_type": "code",
   "execution_count": 1,
   "metadata": {
    "collapsed": false
   },
   "outputs": [
    {
     "name": "stderr",
     "output_type": "stream",
     "text": [
      "Using TensorFlow backend.\n"
     ]
    }
   ],
   "source": [
    "# some setup code\n",
    "import numpy as np\n",
    "np.random.seed(1337)  # for reproducibility\n",
    "\n",
    "from keras.datasets import mnist\n",
    "from keras.models import Sequential\n",
    "from keras.layers.core import Dense, Dropout, Activation\n",
    "from keras.optimizers import SGD, Adam, RMSprop\n",
    "from keras.utils import np_utils"
   ]
  },
  {
   "cell_type": "markdown",
   "metadata": {},
   "source": [
    "#### Load MNIST Data"
   ]
  },
  {
   "cell_type": "code",
   "execution_count": 2,
   "metadata": {
    "collapsed": false
   },
   "outputs": [
    {
     "name": "stdout",
     "output_type": "stream",
     "text": [
      "Downloading data from https://s3.amazonaws.com/img-datasets/mnist.pkl.gz\n",
      "15302656/15296311 [==============================] - 184s   \n",
      "60000 train samples\n",
      "10000 test samples\n"
     ]
    }
   ],
   "source": [
    "batch_size = 128\n",
    "nb_classes = 10\n",
    "nb_epoch = 20\n",
    "\n",
    "# the data, shuffled and split between train and test sets\n",
    "(X_train, y_train), (X_test, y_test) = mnist.load_data()\n",
    "\n",
    "X_train = X_train.reshape(60000, 784)\n",
    "X_test = X_test.reshape(10000, 784)\n",
    "X_train = X_train.astype('float32') # float32 type usually works better\n",
    "X_test = X_test.astype('float32')\n",
    "X_train /= 255\n",
    "X_test /= 255\n",
    "print(X_train.shape[0], 'train samples')\n",
    "print(X_test.shape[0], 'test samples')"
   ]
  },
  {
   "cell_type": "markdown",
   "metadata": {},
   "source": [
    "#### Build NN Model and Train It"
   ]
  },
  {
   "cell_type": "code",
   "execution_count": 7,
   "metadata": {
    "collapsed": false
   },
   "outputs": [
    {
     "name": "stdout",
     "output_type": "stream",
     "text": [
      "Train on 60000 samples, validate on 10000 samples\n",
      "Epoch 1/20\n",
      "16s - loss: 0.2745 - val_loss: 0.1088\n",
      "Epoch 2/20\n",
      "14s - loss: 0.1123 - val_loss: 0.0826\n",
      "Epoch 3/20\n",
      "14s - loss: 0.0796 - val_loss: 0.0677\n",
      "Epoch 4/20\n",
      "15s - loss: 0.0623 - val_loss: 0.0646\n",
      "Epoch 5/20\n",
      "14s - loss: 0.0501 - val_loss: 0.0630\n",
      "Epoch 6/20\n",
      "15s - loss: 0.0429 - val_loss: 0.0592\n",
      "Epoch 7/20\n",
      "14s - loss: 0.0352 - val_loss: 0.0577\n",
      "Epoch 8/20\n",
      "13s - loss: 0.0292 - val_loss: 0.0590\n",
      "Epoch 9/20\n",
      "13s - loss: 0.0258 - val_loss: 0.0589\n",
      "Epoch 10/20\n",
      "14s - loss: 0.0216 - val_loss: 0.0643\n",
      "Epoch 11/20\n",
      "15s - loss: 0.0194 - val_loss: 0.0592\n",
      "Epoch 12/20\n",
      "14s - loss: 0.0182 - val_loss: 0.0630\n",
      "Epoch 13/20\n",
      "14s - loss: 0.0155 - val_loss: 0.0606\n",
      "Epoch 14/20\n",
      "14s - loss: 0.0141 - val_loss: 0.0649\n",
      "Epoch 15/20\n",
      "14s - loss: 0.0130 - val_loss: 0.0679\n",
      "Epoch 16/20\n",
      "14s - loss: 0.0140 - val_loss: 0.0579\n",
      "Epoch 17/20\n",
      "13s - loss: 0.0097 - val_loss: 0.0645\n",
      "Epoch 18/20\n",
      "14s - loss: 0.0107 - val_loss: 0.0711\n",
      "Epoch 19/20\n",
      "14s - loss: 0.0087 - val_loss: 0.0662\n",
      "Epoch 20/20\n",
      "15s - loss: 0.0089 - val_loss: 0.0670\n",
      "Validation error: 6.7 %\n",
      "Validation accuracy: 93.3 %\n"
     ]
    }
   ],
   "source": [
    "# convert class vectors to binary class matrices\n",
    "# because Keras wants something called \"one-hot\" (https://en.wikipedia.org/wiki/One-hot) to be labels\n",
    "Y_train = np_utils.to_categorical(y_train, nb_classes)\n",
    "Y_test = np_utils.to_categorical(y_test, nb_classes)\n",
    "\n",
    "model = Sequential()\n",
    "# Dense is just simple neural network without any magic. \n",
    "# Note here you should include the argument \"input_shape\" when it is the input layer\n",
    "model.add(Dense(512, input_shape=(784,))) \n",
    "model.add(Activation('relu')) # remember ReLu? max(x, 0)\n",
    "# Dropout is a simple but powerful regularization method to prevent overfitting - \n",
    "# it drops some information in the network in order to increase its generalizability.\n",
    "model.add(Dropout(0.2)) \n",
    "model.add(Dense(512))\n",
    "model.add(Activation('relu'))\n",
    "model.add(Dropout(0.2))\n",
    "model.add(Dense(10))\n",
    "# softmax outputs a vector v whose shape is (10,) where v[i] = the possibility of the input belonging to ith category\n",
    "model.add(Activation('softmax')) \n",
    "\n",
    "\n",
    "# Read this if you are not familiar with  softmax or cross entropy: \n",
    "# http://cs231n.github.io/linear-classify/#softmax\n",
    "# Also, do not worry about RMSProp right now. It is just another (awesome) optimization method\n",
    "model.compile(loss='categorical_crossentropy', optimizer=RMSprop()) \n",
    "\n",
    "# check Keras documentation for details: http://keras.io/models/#sequential\n",
    "model.fit(X_train, Y_train,\n",
    "          batch_size=batch_size, nb_epoch=nb_epoch,\n",
    "          verbose=2,\n",
    "          validation_data=(X_test, Y_test) )\n",
    "\n",
    "score = model.evaluate(X_test, Y_test,\n",
    "                       verbose=0)\n",
    "\n",
    "print( 'Validation error:', round(score*100,2), \"%\" )\n",
    "print( 'Validation accuracy:', round(100 - (score*100) ,2), \"%\" )"
   ]
  },
  {
   "cell_type": "code",
   "execution_count": null,
   "metadata": {
    "collapsed": true
   },
   "outputs": [],
   "source": []
  }
 ],
 "metadata": {
  "anaconda-cloud": {},
  "kernelspec": {
   "display_name": "Python 3",
   "language": "python",
   "name": "python3"
  },
  "language_info": {
   "codemirror_mode": {
    "name": "ipython",
    "version": 3
   },
   "file_extension": ".py",
   "mimetype": "text/x-python",
   "name": "python",
   "nbconvert_exporter": "python",
   "pygments_lexer": "ipython3",
   "version": "3.4.4"
  }
 },
 "nbformat": 4,
 "nbformat_minor": 1
}
